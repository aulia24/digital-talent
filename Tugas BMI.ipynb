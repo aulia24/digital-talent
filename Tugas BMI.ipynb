{
 "cells": [
  {
   "cell_type": "code",
   "execution_count": 6,
   "metadata": {},
   "outputs": [
    {
     "name": "stdout",
     "output_type": "stream",
     "text": [
      "44.98269896193772\n",
      "Kategorei BMI : Very severely obese\n"
     ]
    }
   ],
   "source": [
    "berat_badan = 130 #satuan kg\n",
    "tinggi_badan = 170 #satuan cm\n",
    "\n",
    "BMI = berat_badan / ((tinggi_badan /100)**2)\n",
    "print(BMI)\n",
    "\n",
    "if BMI<15 :\n",
    "    print(\"Kategorei BMI : Very severely underweight\")\n",
    "elif BMI>15 and BMI<16 :\n",
    "    print(\"Kategorei BMI : Severely underweight\")\n",
    "elif BMI>16 and BMI<18.5 :\n",
    "    print(\"Kategorei BMI : Underweight\")\n",
    "elif BMI>18.5 and BMI<25 :\n",
    "    print(\"Kategorei BMI : Normal (healthy weight)\")\n",
    "elif BMI>25 and BMI<30 :\n",
    "    print(\"Kategorei BMI : Overweight\")\n",
    "elif BMI>30 and BMI<35 :\n",
    "    print(\"Kategorei BMI : Moderately obese\")\n",
    "elif BMI>35 and BMI<40 :\n",
    "    print(\"Kategorei BMI : Severely obese\")\n",
    "elif BMI>40 :\n",
    "    print(\"Kategorei BMI : Very severely obese\")\n",
    "else:\n",
    "    print(\"Program Selesai\")\n",
    "\n"
   ]
  },
  {
   "cell_type": "code",
   "execution_count": null,
   "metadata": {},
   "outputs": [],
   "source": []
  }
 ],
 "metadata": {
  "kernelspec": {
   "display_name": "Python 3",
   "language": "python",
   "name": "python3"
  },
  "language_info": {
   "codemirror_mode": {
    "name": "ipython",
    "version": 3
   },
   "file_extension": ".py",
   "mimetype": "text/x-python",
   "name": "python",
   "nbconvert_exporter": "python",
   "pygments_lexer": "ipython3",
   "version": "3.7.0"
  }
 },
 "nbformat": 4,
 "nbformat_minor": 2
}
